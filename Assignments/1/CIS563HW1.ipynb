{
 "cells": [
  {
   "cell_type": "code",
   "execution_count": 132,
   "id": "serious-pixel",
   "metadata": {},
   "outputs": [],
   "source": [
    "#import csv file\n",
    "import pandas as pd\n",
    "f = pd.read_csv('PFW_2021_public.csv')"
   ]
  },
  {
   "cell_type": "code",
   "execution_count": 133,
   "id": "floating-standard",
   "metadata": {},
   "outputs": [],
   "source": [
    "#since only values in this attribute is repeated and no other values in other attributes are repeated or unique,\n",
    "#remove only this attribute\n",
    "f = f.drop(columns = \"PROJ_PERIOD_ID\")\n"
   ]
  },
  {
   "cell_type": "code",
   "execution_count": 134,
   "id": "dominant-explorer",
   "metadata": {},
   "outputs": [],
   "source": [
    "#added a new column at the end and combined the dates instead of replacing the 3 dates column\n",
    "f['Date_Combined'] = f['Month'].astype(str) + '-' + f['Day'].astype(str) + '-' + f['Year'].astype(str)"
   ]
  },
  {
   "cell_type": "code",
   "execution_count": 135,
   "id": "universal-rates",
   "metadata": {},
   "outputs": [],
   "source": [
    "#create a list of categorical attributes that need to be quoted\n",
    "category.clear()\n",
    "category.extend(f.columns[0:11])\n",
    "category.extend(f.columns[12:18])\n",
    "category.extend(f.columns[20:21])\n",
    "\n",
    "category\n",
    "for i in category:\n",
    "    f[i] = f[i].apply(lambda x: \"'\" + str(x) + \"'\")"
   ]
  },
  {
   "cell_type": "code",
   "execution_count": 136,
   "id": "scheduled-gardening",
   "metadata": {},
   "outputs": [
    {
     "data": {
      "text/plain": [
       "500"
      ]
     },
     "execution_count": 136,
     "metadata": {},
     "output_type": "execute_result"
    }
   ],
   "source": [
    "#calculate the number of bins needed if we want each bin to be size 10\n",
    "Nbins = f['how_many'].max() // 10\n",
    "Nbins\n"
   ]
  },
  {
   "cell_type": "code",
   "execution_count": 137,
   "id": "dental-african",
   "metadata": {},
   "outputs": [
    {
     "name": "stdout",
     "output_type": "stream",
     "text": [
      "        loc_id      latitude       longitude subnational1_code  \\\n",
      "0  'L12782033'  '44.5741482'   '-78.2056082'           'CA-ON'   \n",
      "1  'L12782033'  '44.5741482'   '-78.2056082'           'CA-ON'   \n",
      "2  'L12782033'  '44.5741482'   '-78.2056082'           'CA-ON'   \n",
      "3  'L12755941'  '54.1368725'  '-108.6878622'           'CA-SK'   \n",
      "4  'L12755941'  '54.1368725'  '-108.6878622'           'CA-SK'   \n",
      "\n",
      "         entry_technique       sub_id           obs_id Month   Day    Year  \\\n",
      "0  '/GOOGLE_MAP/ZOOM:15'  'S79876486'  'OBS1059258900'   '1'  '24'  '2021'   \n",
      "1  '/GOOGLE_MAP/ZOOM:15'  'S79876486'  'OBS1059259256'   '1'  '24'  '2021'   \n",
      "2  '/GOOGLE_MAP/ZOOM:15'  'S79876486'  'OBS1059259639'   '1'  '24'  '2021'   \n",
      "3  '/GOOGLE_MAP/ZOOM:17'  'S76634904'  'OBS1017001338'  '11'  '23'  '2020'   \n",
      "4  '/GOOGLE_MAP/ZOOM:17'  'S76634904'  'OBS1017001339'  '11'  '23'  '2020'   \n",
      "\n",
      "   ... valid reviewed day1_am day1_pm day2_am day2_pm effort_hrs_atleast  \\\n",
      "0  ...   '1'      '0'     '0'     '1'     '0'     '1'              0.001   \n",
      "1  ...   '1'      '0'     '0'     '1'     '0'     '1'              0.001   \n",
      "2  ...   '1'      '0'     '0'     '1'     '0'     '1'              0.001   \n",
      "3  ...   '1'      '0'     '0'     '1'     '0'     '1'              0.001   \n",
      "4  ...   '1'      '0'     '0'     '1'     '0'     '1'              0.001   \n",
      "\n",
      "  snow_dep_atleast         Data_Entry_Method  Date_Combined  \n",
      "0            5.000  'PFW Mobile App v1.1.17'      1-24-2021  \n",
      "1            5.000  'PFW Mobile App v1.1.17'      1-24-2021  \n",
      "2            5.000  'PFW Mobile App v1.1.17'      1-24-2021  \n",
      "3           15.001           'PFW Web 4.1.4'     11-23-2020  \n",
      "4           15.001           'PFW Web 4.1.4'     11-23-2020  \n",
      "\n",
      "[5 rows x 22 columns]\n"
     ]
    }
   ],
   "source": [
    "#Discretize attribute \"how many\" into bins of size 10\n",
    "f[\"how_many\"] = pd.cut(f[\"how_many\"], bins=[i for i in range(0, Nbins+1, 10)], precision = 0)\n",
    "print(f.head(5))"
   ]
  },
  {
   "cell_type": "code",
   "execution_count": 138,
   "id": "embedded-craps",
   "metadata": {},
   "outputs": [],
   "source": [
    "#random sample 100 instances\n",
    "output = f.sample(n=100)\n"
   ]
  },
  {
   "cell_type": "code",
   "execution_count": 139,
   "id": "grand-budapest",
   "metadata": {},
   "outputs": [],
   "source": [
    "#write to file\n",
    "output.to_csv(\"hw1Output.csv\")"
   ]
  },
  {
   "cell_type": "code",
   "execution_count": null,
   "id": "ambient-difference",
   "metadata": {},
   "outputs": [],
   "source": []
  }
 ],
 "metadata": {
  "kernelspec": {
   "display_name": "Python 3",
   "language": "python",
   "name": "python3"
  },
  "language_info": {
   "codemirror_mode": {
    "name": "ipython",
    "version": 3
   },
   "file_extension": ".py",
   "mimetype": "text/x-python",
   "name": "python",
   "nbconvert_exporter": "python",
   "pygments_lexer": "ipython3",
   "version": "3.8.5"
  }
 },
 "nbformat": 4,
 "nbformat_minor": 5
}
