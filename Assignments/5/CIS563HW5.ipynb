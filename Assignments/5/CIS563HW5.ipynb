{
 "cells": [
  {
   "cell_type": "code",
   "execution_count": 1,
   "id": "0f8c9f71",
   "metadata": {},
   "outputs": [],
   "source": [
    "import pandas as pd\n",
    "from sklearn.model_selection import train_test_split\n",
    "import numpy as np\n",
    "import math\n",
    "from sklearn.linear_model import LinearRegression\n",
    "from sklearn.metrics import mean_squared_error\n",
    "from sklearn.linear_model import Ridge\n",
    "from sklearn.linear_model import Lasso\n",
    "\n"
   ]
  },
  {
   "cell_type": "code",
   "execution_count": 17,
   "id": "0c0120a6",
   "metadata": {},
   "outputs": [],
   "source": [
    "#read data\n",
    "train = pd.read_csv('blogData_train.csv', header = None)\n",
    "test = pd.read_csv('blogData_test-2012.03.31.01_00.csv', header = None)"
   ]
  },
  {
   "cell_type": "code",
   "execution_count": 27,
   "id": "b8ee6dd5",
   "metadata": {},
   "outputs": [],
   "source": [
    "#Split Data\n",
    "Xtrain = train.iloc[:,:279]\n",
    "Ytrain = train.iloc[:,280:]\n",
    "Xtest = test.iloc[:,:279]\n",
    "Ytest = test.iloc[:,280:]"
   ]
  },
  {
   "cell_type": "code",
   "execution_count": 31,
   "id": "ff68c03a",
   "metadata": {},
   "outputs": [],
   "source": [
    "#change to numpy matrix\n",
    "Xtrain = np.array(Xtrain)\n",
    "Ytrain = np.array(Ytrain)\n",
    "Xtest = np.array(Xtest)\n",
    "Ytest = np.array(Ytest)"
   ]
  },
  {
   "cell_type": "code",
   "execution_count": 34,
   "id": "4d5f16fa",
   "metadata": {},
   "outputs": [],
   "source": [
    "#linear regress\n",
    "linearReg = LinearRegression().fit(Xtrain, Ytrain)\n",
    "Ypred = linearReg.predict(Xtest)\n",
    "rmse = np.sqrt(mean_squared_error(Ytest, Ypred))"
   ]
  },
  {
   "cell_type": "code",
   "execution_count": 35,
   "id": "2c1833b6",
   "metadata": {},
   "outputs": [
    {
     "data": {
      "text/plain": [
       "40.4010689034253"
      ]
     },
     "execution_count": 35,
     "metadata": {},
     "output_type": "execute_result"
    }
   ],
   "source": [
    "rmse"
   ]
  },
  {
   "cell_type": "code",
   "execution_count": 54,
   "id": "d37b5a26",
   "metadata": {},
   "outputs": [],
   "source": [
    "\n",
    "RidgeReg = Ridge().fit(Xtrain, Ytrain)\n",
    "YpredR = RidgeReg.predict(Xtest)\n",
    "rmse2 = np.sqrt(mean_squared_error(Ytest, YpredR))"
   ]
  },
  {
   "cell_type": "code",
   "execution_count": 55,
   "id": "96424330",
   "metadata": {},
   "outputs": [
    {
     "data": {
      "text/plain": [
       "40.784727595071644"
      ]
     },
     "execution_count": 55,
     "metadata": {},
     "output_type": "execute_result"
    }
   ],
   "source": [
    "rmse2"
   ]
  },
  {
   "cell_type": "code",
   "execution_count": 57,
   "id": "90263db0",
   "metadata": {},
   "outputs": [
    {
     "name": "stderr",
     "output_type": "stream",
     "text": [
      "C:\\Users\\owner\\miniconda3\\lib\\site-packages\\sklearn\\linear_model\\_coordinate_descent.py:645: ConvergenceWarning: Objective did not converge. You might want to increase the number of iterations, check the scale of the features or consider increasing regularisation. Duality gap: 1.822e+07, tolerance: 7.450e+03\n",
      "  model = cd_fast.enet_coordinate_descent(\n"
     ]
    }
   ],
   "source": [
    "\n",
    "LassoReg = Lasso().fit(Xtrain, Ytrain)\n",
    "YpredL = LassoReg.predict(Xtest)\n",
    "rmse3 = np.sqrt(mean_squared_error(Ytest, YpredL))"
   ]
  },
  {
   "cell_type": "code",
   "execution_count": 58,
   "id": "99216258",
   "metadata": {},
   "outputs": [
    {
     "data": {
      "text/plain": [
       "40.83682637566294"
      ]
     },
     "execution_count": 58,
     "metadata": {},
     "output_type": "execute_result"
    }
   ],
   "source": [
    "rmse3"
   ]
  },
  {
   "cell_type": "code",
   "execution_count": 59,
   "id": "9abe0daf",
   "metadata": {},
   "outputs": [
    {
     "data": {
      "text/plain": [
       "array([ 0,  1,  3,  4,  5,  8,  9, 13, 15, 16, 18, 19, 22, 23, 24, 50, 51,\n",
       "       53, 54, 60, 61], dtype=int64)"
      ]
     },
     "execution_count": 59,
     "metadata": {},
     "output_type": "execute_result"
    }
   ],
   "source": [
    "LassoReg.coef_.nonzero()[0]"
   ]
  },
  {
   "cell_type": "code",
   "execution_count": null,
   "id": "c607dc4b",
   "metadata": {},
   "outputs": [],
   "source": []
  }
 ],
 "metadata": {
  "kernelspec": {
   "display_name": "Python 3 (ipykernel)",
   "language": "python",
   "name": "python3"
  },
  "language_info": {
   "codemirror_mode": {
    "name": "ipython",
    "version": 3
   },
   "file_extension": ".py",
   "mimetype": "text/x-python",
   "name": "python",
   "nbconvert_exporter": "python",
   "pygments_lexer": "ipython3",
   "version": "3.8.5"
  }
 },
 "nbformat": 4,
 "nbformat_minor": 5
}
