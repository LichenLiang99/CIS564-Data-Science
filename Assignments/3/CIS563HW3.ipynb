{
 "cells": [
  {
   "cell_type": "code",
   "execution_count": 1,
   "id": "23379c7d",
   "metadata": {},
   "outputs": [],
   "source": [
    "import numpy as np\n",
    "import math\n",
    "from liblinear.liblinearutil import *\n",
    "from libsvm.svmutil import *\n",
    "from scipy import *\n",
    "import time\n",
    "import matplotlib.pylab as plt\n",
    "from sklearn.decomposition import PCA\n",
    "import pandas as pd\n",
    "from scipy.sparse import csr_matrix\n",
    "\n",
    "#I used the subset.py file found at https://github.com/cjlin1/libsvm/blob/master/tools/subset.py\n",
    "#to randomly sampled 10000 data and saved to new file new.libsvm.binary\n",
    "#the script used at terminal:\n",
    "#python subset.py -1 covtype.libsvm.binary 10000 new.libsvm.binary\n",
    "\n",
    "y, x = svm_read_problem('new.libsvm.binary', return_scipy = True)\n",
    "\n"
   ]
  },
  {
   "cell_type": "code",
   "execution_count": 2,
   "id": "9d1c9216",
   "metadata": {},
   "outputs": [
    {
     "name": "stderr",
     "output_type": "stream",
     "text": [
      "WARNING: The #nonzeros of the scaled data is at least 2 times larger than the original one.\n",
      "If feature values are non-negative and sparse, set lower=0 rather than the default lower=-1.\n",
      "WARNING: original #nonzeros 118807\n",
      "       > new      #nonzeros 529994\n",
      "If feature values are non-negative and sparse, get scale_param by setting lower=0 rather than the default lower=-1.\n"
     ]
    }
   ],
   "source": [
    "#scale data to [-1,1]\n",
    "scale_param = csr_find_scale_param(x, lower=-1, upper=1)\n",
    "x = csr_scale(x, scale_param)\n",
    "x = csr_matrix.toarray(x)\n",
    "\n"
   ]
  },
  {
   "cell_type": "code",
   "execution_count": 3,
   "id": "84c4ea4f",
   "metadata": {},
   "outputs": [],
   "source": [
    "prob = problem(y,x)\n",
    "param0 = parameter('-s 0')\n",
    "param1 = parameter('-s 1')\n",
    "param2 = parameter('-s 2')\n"
   ]
  },
  {
   "cell_type": "code",
   "execution_count": 4,
   "id": "658f2e14",
   "metadata": {},
   "outputs": [
    {
     "name": "stdout",
     "output_type": "stream",
     "text": [
      "Accuracy = 75.71% (7571/10000) (classification)\n",
      "Wall time: 1.3 s\n"
     ]
    }
   ],
   "source": [
    "%%time\n",
    "\n",
    "#linear \n",
    "m0 = train(prob, param0)\n",
    "pl, pa, pv = predict(y,x,m0)\n",
    "\n"
   ]
  },
  {
   "cell_type": "code",
   "execution_count": 5,
   "id": "ff011225",
   "metadata": {},
   "outputs": [
    {
     "name": "stdout",
     "output_type": "stream",
     "text": [
      "Accuracy = 75.88% (7588/10000) (classification)\n",
      "Wall time: 2.13 s\n"
     ]
    }
   ],
   "source": [
    "%%time\n",
    "\n",
    "#primal\n",
    "m1 = train(prob, param1)\n",
    "pl1, pa1, pv1 = predict(y,x,m1)"
   ]
  },
  {
   "cell_type": "code",
   "execution_count": 6,
   "id": "d19574b6",
   "metadata": {},
   "outputs": [
    {
     "name": "stdout",
     "output_type": "stream",
     "text": [
      "Accuracy = 75.91% (7591/10000) (classification)\n",
      "Wall time: 1.3 s\n"
     ]
    }
   ],
   "source": [
    "%%time\n",
    "\n",
    "#dual\n",
    "m2 = train(prob, param2)\n",
    "pl2, pa2, pv2 = predict(y,x,m2)"
   ]
  },
  {
   "cell_type": "code",
   "execution_count": 7,
   "id": "b220051e",
   "metadata": {},
   "outputs": [
    {
     "name": "stdout",
     "output_type": "stream",
     "text": [
      "Accuracy = 73.95% (7395/10000) (classification)\n",
      "Wall time: 41.1 s\n"
     ]
    }
   ],
   "source": [
    "%%time\n",
    "\n",
    "#kernel method, gaussian\n",
    "prob3 = svm_problem(y,x)\n",
    "param3 = '-t 2'\n",
    "m3 = svm_train(prob3, param3)\n",
    "pl3, pa3, pv3 = svm_predict(y,x,m3)\n"
   ]
  },
  {
   "cell_type": "code",
   "execution_count": 8,
   "id": "e0589402",
   "metadata": {},
   "outputs": [],
   "source": [
    "#applied pca to 2d for visualization\n",
    "pca = PCA(n_components=2)          \n",
    "pca = pca.fit(x)                    \n",
    "X_dr = pca.transform(x)   "
   ]
  },
  {
   "cell_type": "code",
   "execution_count": 9,
   "id": "a59015da",
   "metadata": {},
   "outputs": [],
   "source": [
    "colors = ['green', 'red', 'blue']\n",
    "\n",
    "for i in range(len(colors)):\n",
    "    plt.scatter(X_dr[y == i, 0] ,X_dr[y == i, 1], alpha=0.5, c=colors[i])\n",
    "plt.show()\n"
   ]
  },
  {
   "cell_type": "code",
   "execution_count": 10,
   "id": "af88806d",
   "metadata": {},
   "outputs": [],
   "source": [
    "#applied pca reduce to 5d\n",
    "#and trained linear, primal, dual, kernal again\n",
    "pca = PCA(n_components=5)          \n",
    "pca = pca.fit(x)                    \n",
    "X_dr2 = pca.transform(x)   \n"
   ]
  },
  {
   "cell_type": "code",
   "execution_count": 11,
   "id": "3f33a9fd",
   "metadata": {},
   "outputs": [
    {
     "name": "stdout",
     "output_type": "stream",
     "text": [
      "Accuracy = 55.32% (5532/10000) (classification)\n",
      "Wall time: 658 ms\n"
     ]
    }
   ],
   "source": [
    "%%time\n",
    "prob4 = train(y, X_dr2, '-s 0')\n",
    "pl4, pa4, pv4 = predict(y, X_dr, prob4)"
   ]
  },
  {
   "cell_type": "code",
   "execution_count": 12,
   "id": "a0720745",
   "metadata": {},
   "outputs": [
    {
     "name": "stdout",
     "output_type": "stream",
     "text": [
      "Accuracy = 55.38% (5538/10000) (classification)\n",
      "Wall time: 684 ms\n"
     ]
    }
   ],
   "source": [
    "%%time\n",
    "prob4 = train(y, X_dr2, '-s 1')\n",
    "pl4, pa4, pv4 = predict(y, X_dr, prob4)"
   ]
  },
  {
   "cell_type": "code",
   "execution_count": 13,
   "id": "42e51256",
   "metadata": {},
   "outputs": [
    {
     "name": "stdout",
     "output_type": "stream",
     "text": [
      "Accuracy = 55.38% (5538/10000) (classification)\n",
      "Wall time: 672 ms\n"
     ]
    }
   ],
   "source": [
    "%%time\n",
    "prob4 = train(y, X_dr2, '-s 2')\n",
    "pl4, pa4, pv4 = predict(y, X_dr, prob4)"
   ]
  },
  {
   "cell_type": "code",
   "execution_count": 14,
   "id": "7bbfd9ed",
   "metadata": {},
   "outputs": [
    {
     "name": "stdout",
     "output_type": "stream",
     "text": [
      "Accuracy = 61.05% (6105/10000) (classification)\n",
      "Wall time: 6.35 s\n"
     ]
    }
   ],
   "source": [
    "%%time\n",
    "prob4 = svm_train(y, X_dr2, '-t 2')\n",
    "pl4, pa4, pv4 = svm_predict(y, X_dr, prob4)"
   ]
  },
  {
   "cell_type": "code",
   "execution_count": null,
   "id": "1be25473",
   "metadata": {},
   "outputs": [],
   "source": []
  }
 ],
 "metadata": {
  "kernelspec": {
   "display_name": "Python 3.8 (XPython)",
   "language": "python",
   "name": "xpython"
  },
  "language_info": {
   "file_extension": ".py",
   "mimetype": "text/x-python",
   "name": "python",
   "version": "3.8.12"
  }
 },
 "nbformat": 4,
 "nbformat_minor": 5
}
