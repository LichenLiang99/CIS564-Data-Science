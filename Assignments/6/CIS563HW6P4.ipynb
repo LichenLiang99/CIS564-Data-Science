{
 "cells": [
  {
   "cell_type": "code",
   "execution_count": 1,
   "id": "e077b4fe",
   "metadata": {},
   "outputs": [],
   "source": [
    "import mmh3\n",
    "from bitarray import bitarray\n",
    "import math"
   ]
  },
  {
   "cell_type": "code",
   "execution_count": 2,
   "id": "fa34c7c1",
   "metadata": {},
   "outputs": [],
   "source": [
    "#read each line and add to S and a hashtable\n",
    "inputS = []\n",
    "ht = dict()\n",
    "f = open(\"listed_username_30.txt\", 'r', errors = 'replace')\n",
    "while True:\n",
    "    data = f.readline().strip('\\n')\n",
    "    if not data:\n",
    "        break\n",
    "    else:\n",
    "        inputS.append(data)\n",
    "        ht[data] = data\n",
    "f.close()"
   ]
  },
  {
   "cell_type": "code",
   "execution_count": 3,
   "id": "e83490f5",
   "metadata": {},
   "outputs": [],
   "source": [
    "#read each line and add to stream\n",
    "stream = []\n",
    "f2 = open(\"listed_username_365.txt\", 'r', errors = 'replace')\n",
    "while True:\n",
    "    data = f2.readline().strip('\\n')\n",
    "    if not data:\n",
    "        break\n",
    "    else:\n",
    "        stream.append(data)\n",
    "f2.close()"
   ]
  },
  {
   "cell_type": "code",
   "execution_count": 4,
   "id": "9e7a80b4",
   "metadata": {},
   "outputs": [],
   "source": [
    "#define m to be length of input and n to be size of bit array and set all to 0\n",
    "m = len(inputS)                  \n",
    "n = 6 * m\n",
    "bitArray = bitarray(n)\n",
    "bitArray.setall(0)"
   ]
  },
  {
   "cell_type": "code",
   "execution_count": 5,
   "id": "86159eba",
   "metadata": {},
   "outputs": [],
   "source": [
    "#for each value in input, murmurhash it and set its value in bit array to 1\n",
    "for i in inputS:\n",
    "    h1 = mmh3.hash(i) % n\n",
    "    bitArray[h1] = 1"
   ]
  },
  {
   "cell_type": "code",
   "execution_count": 6,
   "id": "6a416ffb",
   "metadata": {},
   "outputs": [],
   "source": [
    "#for each value in stream, murmurhash it and if its value is 1 in bit array, also check if it's in the hash table\n",
    "#if not in hashtable then its false positive \n",
    "TN = 0\n",
    "FP = 0\n",
    "for i in stream:\n",
    "    h = mmh3.hash(i) % n\n",
    "    if bitArray[h] == 1:\n",
    "        if i not in ht:\n",
    "            FP += 1\n",
    "    else:\n",
    "        TN += 1"
   ]
  },
  {
   "cell_type": "code",
   "execution_count": 7,
   "id": "afb4ac15",
   "metadata": {},
   "outputs": [
    {
     "name": "stdout",
     "output_type": "stream",
     "text": [
      "False Positive Rate: 0.15328319462341175\n"
     ]
    }
   ],
   "source": [
    "print('False Positive Rate: ' + str(float(FP)/(FP + TN)))"
   ]
  },
  {
   "cell_type": "code",
   "execution_count": 8,
   "id": "c0c6772a",
   "metadata": {},
   "outputs": [
    {
     "name": "stdout",
     "output_type": "stream",
     "text": [
      "k: 4.1588830833596715\n"
     ]
    }
   ],
   "source": [
    "print('k: ' + str(n//m * math.log(2)))"
   ]
  },
  {
   "cell_type": "code",
   "execution_count": null,
   "id": "a41cb3f4",
   "metadata": {},
   "outputs": [],
   "source": []
  }
 ],
 "metadata": {
  "kernelspec": {
   "display_name": "Python 3.8 (XPython)",
   "language": "python",
   "name": "xpython"
  },
  "language_info": {
   "file_extension": ".py",
   "mimetype": "text/x-python",
   "name": "python",
   "version": "3.8.12"
  }
 },
 "nbformat": 4,
 "nbformat_minor": 5
}
