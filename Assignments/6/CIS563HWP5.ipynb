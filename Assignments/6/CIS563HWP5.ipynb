{
 "cells": [
  {
   "cell_type": "code",
   "execution_count": 1,
   "id": "344b00ee",
   "metadata": {},
   "outputs": [],
   "source": [
    "import mmh3\n",
    "from bitarray import bitarray\n",
    "import math\n",
    "import statistics"
   ]
  },
  {
   "cell_type": "code",
   "execution_count": 2,
   "id": "d44579fd",
   "metadata": {},
   "outputs": [],
   "source": [
    "inputdata = ['quotes_2008-08.txt','quotes_2008-09.txt','quotes_2008-10.txt','quotes_2008-11.txt','quotes_2008-12.txt','quotes_2009-01.txt','quotes_2009-02.txt','quotes_2009-03.txt','quotes_2009-04.txt']"
   ]
  },
  {
   "cell_type": "code",
   "execution_count": 3,
   "id": "33f8dd11",
   "metadata": {},
   "outputs": [],
   "source": [
    "#for each line in input data, if it starts with Q, then hash the rest of the line\n",
    "#calculate the tail length and store it\n",
    "temp = ['' for i in range(6)]\n",
    "tailLength = [[] for i in range(6)]\n",
    "for file in inputdata:\n",
    "    f = open(file, 'r', errors = 'replace')\n",
    "    while True:\n",
    "        data = f.readline().split('\\t')\n",
    "        if data[0] == '':\n",
    "            break\n",
    "        elif data[0] == 'Q':\n",
    "            for i in range(6):\n",
    "                temp[i] = format(abs(mmh3.hash(data[1], i)), '032b')\n",
    "                tailLength[i].append(len(temp[i])-len(temp[i].rstrip('0')))\n",
    "    f.close()\n",
    "\n"
   ]
  },
  {
   "cell_type": "code",
   "execution_count": 4,
   "id": "e660ae44",
   "metadata": {},
   "outputs": [],
   "source": [
    "#split into 2 groups of 3, get the max tail length and get average\n",
    "#find median of average\n",
    "avg1 = (2**(max(tailLength[0])) + 2**(max(tailLength[1])) + 2**(max(tailLength[2]))) / float(3)\n",
    "avg2 = (2**(max(tailLength[3])) + 2**(max(tailLength[4])) + 2**(max(tailLength[5]))) / float(3)\n",
    "med = math.ceil(statistics.median([avg1, avg2]))\n"
   ]
  },
  {
   "cell_type": "code",
   "execution_count": 5,
   "id": "1651cc7c",
   "metadata": {},
   "outputs": [
    {
     "data": {
      "text/plain": [
       "296397483"
      ]
     },
     "execution_count": 5,
     "metadata": {},
     "output_type": "execute_result"
    }
   ],
   "source": [
    "med"
   ]
  },
  {
   "cell_type": "code",
   "execution_count": null,
   "id": "f517f601",
   "metadata": {},
   "outputs": [],
   "source": []
  }
 ],
 "metadata": {
  "kernelspec": {
   "display_name": "Python 3.8 (XPython)",
   "language": "python",
   "name": "xpython"
  },
  "language_info": {
   "file_extension": ".py",
   "mimetype": "text/x-python",
   "name": "python",
   "version": "3.8.12"
  }
 },
 "nbformat": 4,
 "nbformat_minor": 5
}
