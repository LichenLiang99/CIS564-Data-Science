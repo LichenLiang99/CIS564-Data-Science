{
 "cells": [
  {
   "cell_type": "code",
   "execution_count": 1,
   "id": "charged-rubber",
   "metadata": {},
   "outputs": [
    {
     "data": {
      "text/plain": [
       "(48842, 15)"
      ]
     },
     "execution_count": 1,
     "metadata": {},
     "output_type": "execute_result"
    }
   ],
   "source": [
    "#import csv file\n",
    "import pandas as pd\n",
    "from sklearn.model_selection import train_test_split\n",
    "from collections import defaultdict\n",
    "import numpy as np\n",
    "import math\n",
    "f = pd.read_csv('adult_csv.csv')\n",
    "f.shape"
   ]
  },
  {
   "cell_type": "code",
   "execution_count": 2,
   "id": "chinese-cardiff",
   "metadata": {},
   "outputs": [
    {
     "data": {
      "text/plain": [
       "(46033, 12)"
      ]
     },
     "execution_count": 2,
     "metadata": {},
     "output_type": "execute_result"
    }
   ],
   "source": [
    "#drop columns and drop rows with null values\n",
    "f = f.drop(columns = [\"capitalgain\",\"capitalloss\",\"native-country\"])\n",
    "f = f.dropna()\n",
    "f.shape"
   ]
  },
  {
   "cell_type": "code",
   "execution_count": 3,
   "id": "vocational-southwest",
   "metadata": {},
   "outputs": [],
   "source": [
    "#split into 90% training and 10% testing set\n",
    "train, test = train_test_split(f, test_size=0.1)"
   ]
  },
  {
   "cell_type": "code",
   "execution_count": 4,
   "id": "centered-worthy",
   "metadata": {},
   "outputs": [],
   "source": [
    "#split 'class' column from the training set\n",
    "#trainX is only later used to get the attribute names and type\n",
    "trainY = train['class']\n",
    "trainX = train.drop(['class'], axis = 1)\n"
   ]
  },
  {
   "cell_type": "code",
   "execution_count": 5,
   "id": "downtown-collectible",
   "metadata": {},
   "outputs": [],
   "source": [
    "#split training data by class\n",
    "datasets = {}\n",
    "by_class = train.groupby('class')\n",
    "\n",
    "for groups, data in by_class:\n",
    "    datasets[groups] = data"
   ]
  },
  {
   "cell_type": "code",
   "execution_count": 6,
   "id": "binary-terror",
   "metadata": {},
   "outputs": [
    {
     "data": {
      "text/plain": [
       "{'<=50K':        age  workclass  fnlwgt     education  education-num  \\\n",
       " 1154     2  State-gov  165309       HS-grad              9   \n",
       " 15967    0    Private   22201       HS-grad              9   \n",
       " 8493     3    Private  105431       HS-grad              9   \n",
       " 5564     3    Private  191357     Bachelors             13   \n",
       " 14973    0    Private   68577     Assoc-voc             11   \n",
       " ...    ...        ...     ...           ...            ...   \n",
       " 1640     3    Private  158993       HS-grad              9   \n",
       " 13167    1    Private   56150          11th              7   \n",
       " 19991    0    Private  117767  Some-college             10   \n",
       " 15135    3    Private  341762       HS-grad              9   \n",
       " 15282    2    Private  174308          11th              7   \n",
       " \n",
       "            marital-status         occupation    relationship  \\\n",
       " 1154   Married-civ-spouse    Protective-serv         Husband   \n",
       " 15967  Married-civ-spouse    Protective-serv         Husband   \n",
       " 8493             Divorced      Other-service   Not-in-family   \n",
       " 5564   Married-civ-spouse       Tech-support         Husband   \n",
       " 14973  Married-civ-spouse   Transport-moving         Husband   \n",
       " ...                   ...                ...             ...   \n",
       " 1640             Divorced      Other-service  Other-relative   \n",
       " 13167       Never-married   Transport-moving       Unmarried   \n",
       " 19991       Never-married       Adm-clerical       Own-child   \n",
       " 15135  Married-civ-spouse  Machine-op-inspct         Husband   \n",
       " 15282            Divorced   Transport-moving   Not-in-family   \n",
       " \n",
       "                      race     sex  hoursperweek  class  \n",
       " 1154                White    Male             2  <=50K  \n",
       " 15967  Asian-Pac-Islander    Male             2  <=50K  \n",
       " 8493                Black  Female             2  <=50K  \n",
       " 5564                White    Male             2  <=50K  \n",
       " 14973               White    Male             2  <=50K  \n",
       " ...                   ...     ...           ...    ...  \n",
       " 1640                Black  Female             2  <=50K  \n",
       " 13167               White    Male             2  <=50K  \n",
       " 19991               White    Male             1  <=50K  \n",
       " 15135               White    Male             2  <=50K  \n",
       " 15282               White    Male             2  <=50K  \n",
       " \n",
       " [31198 rows x 12 columns],\n",
       " '>50K':        age         workclass  fnlwgt     education  education-num  \\\n",
       " 48113    4           Private  232683  Some-college             10   \n",
       " 43753    3         Local-gov  201040       Masters             14   \n",
       " 19270    4      Self-emp-inc   73559       HS-grad              9   \n",
       " 17755    1           Private  183043       Masters             14   \n",
       " 14096    3           Private  152810       Masters             14   \n",
       " ...    ...               ...     ...           ...            ...   \n",
       " 18146    3  Self-emp-not-inc  131091     Bachelors             13   \n",
       " 22146    1           Private   97521     Bachelors             13   \n",
       " 43560    2           Private  233511    Assoc-acdm             12   \n",
       " 4888     2           Private   91209     Bachelors             13   \n",
       " 34835    2           Private  187870     Bachelors             13   \n",
       " \n",
       "            marital-status       occupation relationship   race   sex  \\\n",
       " 48113  Married-civ-spouse     Adm-clerical      Husband  White  Male   \n",
       " 43753  Married-civ-spouse   Prof-specialty      Husband  White  Male   \n",
       " 19270  Married-civ-spouse  Exec-managerial      Husband  White  Male   \n",
       " 17755  Married-civ-spouse  Exec-managerial      Husband  White  Male   \n",
       " 14096  Married-civ-spouse  Exec-managerial      Husband  White  Male   \n",
       " ...                   ...              ...          ...    ...   ...   \n",
       " 18146  Married-civ-spouse            Sales      Husband  White  Male   \n",
       " 22146  Married-civ-spouse            Sales      Husband  White  Male   \n",
       " 43560  Married-civ-spouse  Exec-managerial      Husband  White  Male   \n",
       " 4888   Married-civ-spouse  Exec-managerial      Husband  White  Male   \n",
       " 34835  Married-civ-spouse     Craft-repair      Husband  White  Male   \n",
       " \n",
       "        hoursperweek class  \n",
       " 48113             0  >50K  \n",
       " 43753             2  >50K  \n",
       " 19270             3  >50K  \n",
       " 17755             3  >50K  \n",
       " 14096             3  >50K  \n",
       " ...             ...   ...  \n",
       " 18146             2  >50K  \n",
       " 22146             3  >50K  \n",
       " 43560             2  >50K  \n",
       " 4888              2  >50K  \n",
       " 34835             2  >50K  \n",
       " \n",
       " [10231 rows x 12 columns]}"
      ]
     },
     "execution_count": 6,
     "metadata": {},
     "output_type": "execute_result"
    }
   ],
   "source": [
    "datasets"
   ]
  },
  {
   "cell_type": "code",
   "execution_count": 7,
   "id": "christian-district",
   "metadata": {},
   "outputs": [
    {
     "name": "stdout",
     "output_type": "stream",
     "text": [
      "10231\n",
      "31198\n"
     ]
    }
   ],
   "source": [
    "#for each class in separated dataset, store into new table and drop the 'class' column\n",
    "#get number of rows for each class\n",
    "trainXLess = datasets['<=50K']\n",
    "trainXLess = trainXLess.drop(['class'], axis = 1)\n",
    "\n",
    "trainXGreater = datasets['>50K']\n",
    "trainXGreater = trainXGreater.drop(['class'], axis = 1)\n",
    "\n",
    "NoOfClassGreater50k = len(trainXGreater)\n",
    "NoOfClassLess50k = len(trainXLess)\n",
    "print(NoOfClassGreater50k)\n",
    "print(NoOfClassLess50k)"
   ]
  },
  {
   "cell_type": "code",
   "execution_count": 8,
   "id": "extended-birth",
   "metadata": {},
   "outputs": [
    {
     "data": {
      "text/plain": [
       "['workclass',\n",
       " 'education',\n",
       " 'marital-status',\n",
       " 'occupation',\n",
       " 'relationship',\n",
       " 'race',\n",
       " 'sex']"
      ]
     },
     "execution_count": 8,
     "metadata": {},
     "output_type": "execute_result"
    }
   ],
   "source": [
    "#get the nominal attributes into a list\n",
    "nominal = [i for i in trainX.columns if trainX[i].dtype=='O']\n",
    "nominal"
   ]
  },
  {
   "cell_type": "code",
   "execution_count": 9,
   "id": "proud-portrait",
   "metadata": {},
   "outputs": [],
   "source": [
    "#dictionary to store{label : count of that lable}\n",
    "value_dictLess = {}\n",
    "value_dictGreater = {}\n",
    "\n",
    "#dictionary to store{attribute : count of unique labels in that attribute}\n",
    "NoOfLabels = {}\n",
    "\n",
    "#dictionary to store{label : label's attribute}\n",
    "labelsmap = defaultdict(str)\n"
   ]
  },
  {
   "cell_type": "code",
   "execution_count": 10,
   "id": "circular-teaching",
   "metadata": {
    "scrolled": true
   },
   "outputs": [],
   "source": [
    "#for each attribute in nominal\n",
    "#build dictionary for <50K\n",
    "for i in nominal: \n",
    "    values = trainXLess[i].value_counts().keys().tolist()\n",
    "    counts = trainXLess[i].value_counts().tolist()\n",
    "    temp = dict(zip(values, counts))\n",
    "    value_dictLess.update(temp)\n",
    "    \n",
    "    for j in values:\n",
    "        labelsmap[j] = i\n",
    "\n",
    "    NoOfLabels[i] = len(pd.unique(train[i]))\n",
    "\n"
   ]
  },
  {
   "cell_type": "code",
   "execution_count": 11,
   "id": "preliminary-confidence",
   "metadata": {},
   "outputs": [],
   "source": [
    "#same as above, build dict for >50K\n",
    "for i in nominal: \n",
    "    values = trainXGreater[i].value_counts().keys().tolist()\n",
    "    counts = trainXGreater[i].value_counts().tolist()\n",
    "    temp = dict(zip(values, counts))\n",
    "    value_dictGreater.update(temp)\n",
    "    for j in values:\n",
    "        labelsmap[j] = i"
   ]
  },
  {
   "cell_type": "code",
   "execution_count": 12,
   "id": "applied-merchandise",
   "metadata": {},
   "outputs": [
    {
     "data": {
      "text/plain": [
       "defaultdict(str,\n",
       "            {'Private': 'workclass',\n",
       "             'Self-emp-not-inc': 'workclass',\n",
       "             'Local-gov': 'workclass',\n",
       "             'State-gov': 'workclass',\n",
       "             'Federal-gov': 'workclass',\n",
       "             'Self-emp-inc': 'workclass',\n",
       "             'Without-pay': 'workclass',\n",
       "             'HS-grad': 'education',\n",
       "             'Some-college': 'education',\n",
       "             'Bachelors': 'education',\n",
       "             '11th': 'education',\n",
       "             'Assoc-voc': 'education',\n",
       "             'Masters': 'education',\n",
       "             '10th': 'education',\n",
       "             'Assoc-acdm': 'education',\n",
       "             '7th-8th': 'education',\n",
       "             '9th': 'education',\n",
       "             '12th': 'education',\n",
       "             '5th-6th': 'education',\n",
       "             '1st-4th': 'education',\n",
       "             'Prof-school': 'education',\n",
       "             'Doctorate': 'education',\n",
       "             'Preschool': 'education',\n",
       "             'Never-married': 'marital-status',\n",
       "             'Married-civ-spouse': 'marital-status',\n",
       "             'Divorced': 'marital-status',\n",
       "             'Separated': 'marital-status',\n",
       "             'Widowed': 'marital-status',\n",
       "             'Married-spouse-absent': 'marital-status',\n",
       "             'Married-AF-spouse': 'marital-status',\n",
       "             'Adm-clerical': 'occupation',\n",
       "             'Other-service': 'occupation',\n",
       "             'Craft-repair': 'occupation',\n",
       "             'Sales': 'occupation',\n",
       "             'Prof-specialty': 'occupation',\n",
       "             'Exec-managerial': 'occupation',\n",
       "             'Machine-op-inspct': 'occupation',\n",
       "             'Handlers-cleaners': 'occupation',\n",
       "             'Transport-moving': 'occupation',\n",
       "             'Farming-fishing': 'occupation',\n",
       "             'Tech-support': 'occupation',\n",
       "             'Protective-serv': 'occupation',\n",
       "             'Priv-house-serv': 'occupation',\n",
       "             'Armed-Forces': 'occupation',\n",
       "             'Not-in-family': 'relationship',\n",
       "             'Husband': 'relationship',\n",
       "             'Own-child': 'relationship',\n",
       "             'Unmarried': 'relationship',\n",
       "             'Other-relative': 'relationship',\n",
       "             'Wife': 'relationship',\n",
       "             'White': 'race',\n",
       "             'Black': 'race',\n",
       "             'Asian-Pac-Islander': 'race',\n",
       "             'Amer-Indian-Eskimo': 'race',\n",
       "             'Other': 'race',\n",
       "             'Male': 'sex',\n",
       "             'Female': 'sex'})"
      ]
     },
     "execution_count": 12,
     "metadata": {},
     "output_type": "execute_result"
    }
   ],
   "source": [
    "labelsmap"
   ]
  },
  {
   "cell_type": "code",
   "execution_count": 13,
   "id": "twelve-exclusion",
   "metadata": {},
   "outputs": [
    {
     "name": "stdout",
     "output_type": "stream",
     "text": [
      "{'Private': 23925, 'Self-emp-not-inc': 2505, 'Local-gov': 1991, 'State-gov': 1310, 'Federal-gov': 771, 'Self-emp-inc': 677, 'Without-pay': 19, 'HS-grad': 11317, 'Some-college': 7182, 'Bachelors': 4080, '11th': 1388, 'Assoc-voc': 1313, 'Masters': 1062, '10th': 1041, 'Assoc-acdm': 1012, '7th-8th': 716, '9th': 586, '12th': 500, '5th-6th': 404, '1st-4th': 201, 'Prof-school': 187, 'Doctorate': 143, 'Preschool': 66, 'Never-married': 12724, 'Married-civ-spouse': 10599, 'Divorced': 5135, 'Separated': 1197, 'Widowed': 1054, 'Married-spouse-absent': 471, 'Married-AF-spouse': 18, 'Adm-clerical': 4346, 'Other-service': 4262, 'Craft-repair': 4250, 'Sales': 3648, 'Prof-specialty': 3084, 'Exec-managerial': 2888, 'Machine-op-inspct': 2389, 'Handlers-cleaners': 1742, 'Transport-moving': 1678, 'Farming-fishing': 1181, 'Tech-support': 921, 'Protective-serv': 591, 'Priv-house-serv': 208, 'Armed-Forces': 10, 'Not-in-family': 9602, 'Husband': 9358, 'Own-child': 5926, 'Unmarried': 4087, 'Other-relative': 1228, 'Wife': 997, 'White': 26205, 'Black': 3419, 'Asian-Pac-Islander': 928, 'Amer-Indian-Eskimo': 347, 'Other': 299, 'Male': 19267, 'Female': 11931}\n"
     ]
    }
   ],
   "source": [
    "print(value_dictLess)"
   ]
  },
  {
   "cell_type": "code",
   "execution_count": 14,
   "id": "vanilla-yorkshire",
   "metadata": {},
   "outputs": [
    {
     "name": "stdout",
     "output_type": "stream",
     "text": [
      "{'Private': 6617, 'Self-emp-not-inc': 964, 'Self-emp-inc': 835, 'Local-gov': 833, 'Federal-gov': 505, 'State-gov': 476, 'Without-pay': 1, 'Bachelors': 2886, 'HS-grad': 2195, 'Some-college': 1824, 'Masters': 1281, 'Prof-school': 539, 'Assoc-voc': 457, 'Doctorate': 378, 'Assoc-acdm': 369, '11th': 73, '10th': 73, '7th-8th': 51, '12th': 41, '9th': 32, '5th-6th': 23, '1st-4th': 8, 'Preschool': 1, 'Married-civ-spouse': 8727, 'Never-married': 648, 'Divorced': 596, 'Widowed': 111, 'Separated': 90, 'Married-spouse-absent': 46, 'Married-AF-spouse': 13, 'Exec-managerial': 2625, 'Prof-specialty': 2478, 'Sales': 1314, 'Craft-repair': 1241, 'Adm-clerical': 688, 'Transport-moving': 421, 'Tech-support': 384, 'Machine-op-inspct': 335, 'Protective-serv': 283, 'Other-service': 179, 'Farming-fishing': 158, 'Handlers-cleaners': 118, 'Armed-Forces': 4, 'Priv-house-serv': 3, 'Husband': 7746, 'Not-in-family': 1116, 'Wife': 942, 'Unmarried': 283, 'Own-child': 97, 'Other-relative': 47, 'White': 9293, 'Black': 491, 'Asian-Pac-Islander': 356, 'Amer-Indian-Eskimo': 48, 'Other': 43, 'Male': 8695, 'Female': 1536}\n"
     ]
    }
   ],
   "source": [
    "print(value_dictGreater)"
   ]
  },
  {
   "cell_type": "code",
   "execution_count": 15,
   "id": "chronic-recipient",
   "metadata": {},
   "outputs": [
    {
     "data": {
      "text/plain": [
       "{'workclass': 7,\n",
       " 'education': 16,\n",
       " 'marital-status': 7,\n",
       " 'occupation': 14,\n",
       " 'relationship': 6,\n",
       " 'race': 5,\n",
       " 'sex': 2}"
      ]
     },
     "execution_count": 15,
     "metadata": {},
     "output_type": "execute_result"
    }
   ],
   "source": [
    "NoOfLabels"
   ]
  },
  {
   "cell_type": "code",
   "execution_count": 16,
   "id": "graduate-berry",
   "metadata": {},
   "outputs": [],
   "source": [
    "#dictionary to store{label : probability of this label}\n",
    "probGreater50 = defaultdict(float)\n",
    "probLess50 = defaultdict(float)"
   ]
  },
  {
   "cell_type": "code",
   "execution_count": 17,
   "id": "municipal-jurisdiction",
   "metadata": {},
   "outputs": [],
   "source": [
    "#calculate probability using Laplace smoothing\n",
    "for i in value_dictGreater:\n",
    "    label = labelsmap[i]\n",
    "    c = NoOfLabels[label]\n",
    "    prob = (value_dictGreater[i]+1) / (NoOfClassGreater50k + c)\n",
    "    \n",
    "    probGreater50[i] = prob\n"
   ]
  },
  {
   "cell_type": "code",
   "execution_count": 18,
   "id": "average-watts",
   "metadata": {},
   "outputs": [
    {
     "data": {
      "text/plain": [
       "defaultdict(float,\n",
       "            {'Private': 0.6464153154913069,\n",
       "             'Self-emp-not-inc': 0.09425669075991405,\n",
       "             'Self-emp-inc': 0.0816565735495214,\n",
       "             'Local-gov': 0.0814612228950967,\n",
       "             'Federal-gov': 0.049423715569447156,\n",
       "             'State-gov': 0.04659113108028912,\n",
       "             'Without-pay': 0.0001953506544246923,\n",
       "             'Bachelors': 0.28174099736508246,\n",
       "             'HS-grad': 0.21430662632965747,\n",
       "             'Some-college': 0.17810090758270714,\n",
       "             'Masters': 0.12510978823070168,\n",
       "             'Prof-school': 0.052698350736801014,\n",
       "             'Assoc-voc': 0.04469600858787938,\n",
       "             'Doctorate': 0.036986435054162194,\n",
       "             'Assoc-acdm': 0.03610812920854884,\n",
       "             '11th': 0.0072216258417097685,\n",
       "             '10th': 0.0072216258417097685,\n",
       "             '7th-8th': 0.005074655996877135,\n",
       "             '12th': 0.004098760612862301,\n",
       "             '9th': 0.0032204547672489508,\n",
       "             '5th-6th': 0.002342148921635601,\n",
       "             '1st-4th': 0.0008783058456133503,\n",
       "             'Preschool': 0.00019517907680296673,\n",
       "             'Married-civ-spouse': 0.8525102559093573,\n",
       "             'Never-married': 0.06339128736081266,\n",
       "             'Divorced': 0.05831217034577066,\n",
       "             'Widowed': 0.01093963664778277,\n",
       "             'Separated': 0.0088884547763235,\n",
       "             'Married-spouse-absent': 0.004590740378980269,\n",
       "             'Married-AF-spouse': 0.0013674545809728462,\n",
       "             'Exec-managerial': 0.25632015617374326,\n",
       "             'Prof-specialty': 0.2419716935090288,\n",
       "             'Sales': 0.1283552952659834,\n",
       "             'Craft-repair': 0.1212298682284041,\n",
       "             'Adm-clerical': 0.06725231820400195,\n",
       "             'Transport-moving': 0.041190824792581744,\n",
       "             'Tech-support': 0.037579306979014154,\n",
       "             'Machine-op-inspct': 0.03279648609077599,\n",
       "             'Protective-serv': 0.02772083943387018,\n",
       "             'Other-service': 0.017569546120058566,\n",
       "             'Farming-fishing': 0.015519765739385067,\n",
       "             'Handlers-cleaners': 0.01161542215714983,\n",
       "             'Armed-Forces': 0.0004880429477794046,\n",
       "             'Priv-house-serv': 0.00039043435822352365,\n",
       "             'Husband': 0.7567646771515092,\n",
       "             'Not-in-family': 0.10911399824167237,\n",
       "             'Wife': 0.09211683110286217,\n",
       "             'Unmarried': 0.027742502686333888,\n",
       "             'Own-child': 0.009573117124157468,\n",
       "             'Other-relative': 0.004688873693464882,\n",
       "             'White': 0.9079718640093787,\n",
       "             'Black': 0.04806565064478312,\n",
       "             'Asian-Pac-Islander': 0.03487690504103165,\n",
       "             'Amer-Indian-Eskimo': 0.004787026182102384,\n",
       "             'Other': 0.0042985541227041815,\n",
       "             'Male': 0.8497996677416203,\n",
       "             'Female': 0.15020033225837975})"
      ]
     },
     "execution_count": 18,
     "metadata": {},
     "output_type": "execute_result"
    }
   ],
   "source": [
    "probGreater50"
   ]
  },
  {
   "cell_type": "code",
   "execution_count": 19,
   "id": "romance-activity",
   "metadata": {},
   "outputs": [],
   "source": [
    "#same as above, calculate probability using Laplace smoothing\n",
    "for i in value_dictLess:\n",
    "    label = labelsmap[i]\n",
    "    c = NoOfLabels[label]\n",
    "    prob = (value_dictLess[i]+1) / (NoOfClassLess50k + c)\n",
    "    \n",
    "    probLess50[i] = prob"
   ]
  },
  {
   "cell_type": "code",
   "execution_count": 20,
   "id": "convenient-subsection",
   "metadata": {},
   "outputs": [
    {
     "data": {
      "text/plain": [
       "defaultdict(float,\n",
       "            {'Private': 0.766736099983977,\n",
       "             'Self-emp-not-inc': 0.08030764300592853,\n",
       "             'Local-gov': 0.06383592373017144,\n",
       "             'State-gov': 0.042012497997115844,\n",
       "             'Federal-gov': 0.024739625060086524,\n",
       "             'Self-emp-inc': 0.02172728729370293,\n",
       "             'Without-pay': 0.0006409229290177856,\n",
       "             'HS-grad': 0.3625937079515602,\n",
       "             'Some-college': 0.23012109950663165,\n",
       "             'Bachelors': 0.130742615493048,\n",
       "             '11th': 0.044499263151150124,\n",
       "             'Assoc-voc': 0.04209649516242712,\n",
       "             'Masters': 0.03405523162683411,\n",
       "             '10th': 0.03338245658999167,\n",
       "             'Assoc-acdm': 0.03245338630101877,\n",
       "             '7th-8th': 0.022970461972191967,\n",
       "             '9th': 0.018805664125072084,\n",
       "             '12th': 0.0160504901646697,\n",
       "             '5th-6th': 0.012974947139104248,\n",
       "             '1st-4th': 0.006471455116293971,\n",
       "             'Prof-school': 0.006022938425065676,\n",
       "             'Doctorate': 0.004613314538348177,\n",
       "             'Preschool': 0.0021464727365925547,\n",
       "             'Never-married': 0.4077872135875661,\n",
       "             'Married-civ-spouse': 0.3396891523794264,\n",
       "             'Divorced': 0.16458900817176733,\n",
       "             'Separated': 0.03839128344816536,\n",
       "             'Widowed': 0.03380868450568819,\n",
       "             'Married-spouse-absent': 0.015125781124819741,\n",
       "             'Married-AF-spouse': 0.0006088767825668963,\n",
       "             'Adm-clerical': 0.13927335640138408,\n",
       "             'Other-service': 0.13658208381391773,\n",
       "             'Craft-repair': 0.13619761630142252,\n",
       "             'Sales': 0.11691016275791362,\n",
       "             'Prof-specialty': 0.0988401896706395,\n",
       "             'Exec-managerial': 0.092560553633218,\n",
       "             'Machine-op-inspct': 0.07657311290529284,\n",
       "             'Handlers-cleaners': 0.05584390618992695,\n",
       "             'Transport-moving': 0.05379341278995258,\n",
       "             'Farming-fishing': 0.03787004998077662,\n",
       "             'Tech-support': 0.02953992054338075,\n",
       "             'Protective-serv': 0.018967063949762913,\n",
       "             'Priv-house-serv': 0.006696142509291298,\n",
       "             'Armed-Forces': 0.00035242855312059464,\n",
       "             'Not-in-family': 0.3077490065376234,\n",
       "             'Husband': 0.2999294962184335,\n",
       "             'Own-child': 0.18994359697474683,\n",
       "             'Unmarried': 0.13100884501986926,\n",
       "             'Other-relative': 0.03938597615690296,\n",
       "             'Wife': 0.031983079092424045,\n",
       "             'White': 0.8398551421337692,\n",
       "             'Black': 0.10960484568791462,\n",
       "             'Asian-Pac-Islander': 0.029772778258500786,\n",
       "             'Amer-Indian-Eskimo': 0.011152773771752717,\n",
       "             'Other': 0.009614460148062687,\n",
       "             'Male': 0.6175641025641025,\n",
       "             'Female': 0.38243589743589745})"
      ]
     },
     "execution_count": 20,
     "metadata": {},
     "output_type": "execute_result"
    }
   ],
   "source": [
    "probLess50"
   ]
  },
  {
   "cell_type": "code",
   "execution_count": 21,
   "id": "placed-punch",
   "metadata": {},
   "outputs": [],
   "source": [
    "#get the numerical attributes into a list\n",
    "numerical = [i for i in trainX.columns if train[i].dtype!='O']"
   ]
  },
  {
   "cell_type": "code",
   "execution_count": 22,
   "id": "figured-moore",
   "metadata": {},
   "outputs": [
    {
     "data": {
      "text/plain": [
       "['age', 'fnlwgt', 'education-num', 'hoursperweek']"
      ]
     },
     "execution_count": 22,
     "metadata": {},
     "output_type": "execute_result"
    }
   ],
   "source": [
    "numerical"
   ]
  },
  {
   "cell_type": "code",
   "execution_count": 23,
   "id": "lucky-smell",
   "metadata": {},
   "outputs": [],
   "source": [
    "#dictionary to store{label : (mean, std))}\n",
    "Numvalue_dictLess = {}\n",
    "Numvalue_dictGreater = {}\n"
   ]
  },
  {
   "cell_type": "code",
   "execution_count": 24,
   "id": "comic-renewal",
   "metadata": {},
   "outputs": [],
   "source": [
    "#calculate mean and std\n",
    "for i in numerical:\n",
    "    meanLess = sum(trainXLess[i])/float(len(trainXLess[i]))\n",
    "    meanGreater = sum(trainXGreater[i])/float(len(trainXGreater[i]))\n",
    "    stdLess = np.std(trainXLess[i])\n",
    "    stdGreater = np.std(trainXGreater[i])\n",
    "    Numvalue_dictLess[i] = (meanLess,stdLess)\n",
    "    Numvalue_dictGreater[i] = (meanGreater,stdGreater)"
   ]
  },
  {
   "cell_type": "code",
   "execution_count": 25,
   "id": "extraordinary-advocacy",
   "metadata": {},
   "outputs": [
    {
     "data": {
      "text/plain": [
       "{'age': (2.325872348744013, 0.9999287233560142),\n",
       " 'fnlwgt': (188546.9170169094, 102408.16473671778),\n",
       " 'education-num': (11.608053953670218, 2.372139308361044),\n",
       " 'hoursperweek': (2.348646271136741, 0.7420367819417936)}"
      ]
     },
     "execution_count": 25,
     "metadata": {},
     "output_type": "execute_result"
    }
   ],
   "source": [
    "Numvalue_dictGreater"
   ]
  },
  {
   "cell_type": "code",
   "execution_count": 26,
   "id": "fallen-wednesday",
   "metadata": {},
   "outputs": [],
   "source": [
    "#separate test data\n",
    "#use testY to calculate accuracy later\n",
    "testX = test.drop(['class'], axis = 1)\n",
    "testY = test['class']"
   ]
  },
  {
   "cell_type": "code",
   "execution_count": 27,
   "id": "seven-chain",
   "metadata": {},
   "outputs": [
    {
     "data": {
      "text/plain": [
       "array(['age', 'workclass', 'fnlwgt', 'education', 'education-num',\n",
       "       'marital-status', 'occupation', 'relationship', 'race', 'sex',\n",
       "       'hoursperweek'], dtype=object)"
      ]
     },
     "execution_count": 27,
     "metadata": {},
     "output_type": "execute_result"
    }
   ],
   "source": [
    "testX.columns.values"
   ]
  },
  {
   "cell_type": "code",
   "execution_count": 28,
   "id": "characteristic-flashing",
   "metadata": {},
   "outputs": [],
   "source": [
    "#function to calculate probability in continuous domain\n",
    "#parameters: value of the testing data, less = True to use Numvalue_dictLess, the attribute name\n",
    "def calculateP(x, less, att):\n",
    "    meann, std = 0,0\n",
    "    if less:\n",
    "        meann, std = Numvalue_dictLess[att]\n",
    "    else:\n",
    "        meann, std = Numvalue_dictGreater[att]\n",
    "        \n",
    "    exponent = math.exp(-((x-meann)**2 / (2 * std**2 )))\n",
    "    p = (1 / (math.sqrt(2 * math.pi) * std)) * exponent\n",
    "    return p\n",
    "\n",
    "#probability of each class\n",
    "ProbL = NoOfClassLess50k / float(len(train))\n",
    "ProbG = NoOfClassGreater50k / float(len(train))\n",
    "\n",
    "#store result \n",
    "ProbTest = []\n",
    "\n",
    "#for each value in each row, depending on its datatype,\n",
    "#nominal: get probability from corresponding maps calculated earlier\n",
    "#numerical: get probability from above function\n",
    "#multiply all the probabilities together corresponding to its class\n",
    "#take the larger probability\n",
    "#store in the result array\n",
    "for i, data in testX.iterrows():\n",
    "    AL, AG, WL, WG, FL, FG, EL, EG = 0,0,0,0,0,0,0,0\n",
    "    ENL, ENG, ML, MG, OL, OG, RL, RG = 0,0,0,0,0,0,0,0\n",
    "    RAL, RAG, SL, SG, HL, HG = 0,0,0,0,0,0\n",
    "    \n",
    "    #less = True to use Numvalue_dictLess, else False\n",
    "    data = list(data)\n",
    "    AL = calculateP(data[0], True, 'age')\n",
    "    AG = calculateP(data[0], False, 'age')\n",
    "    \n",
    "    WL = probLess50[data[1]]\n",
    "    WG = probGreater50[data[1]]\n",
    "    \n",
    "    FL = calculateP(data[2], True, 'fnlwgt')\n",
    "    FG = calculateP(data[2], False, 'fnlwgt')\n",
    "    \n",
    "    EL = probLess50[data[3]]\n",
    "    EG = probGreater50[data[3]]\n",
    "    \n",
    "    ENL = calculateP(data[4], True, 'education-num')\n",
    "    ENG = calculateP(data[4], False, 'education-num')\n",
    "    \n",
    "    ML = probLess50[data[5]]\n",
    "    MG = probGreater50[data[5]]\n",
    "    \n",
    "    OL = probLess50[data[6]]\n",
    "    OG = probGreater50[data[6]]\n",
    "    \n",
    "    RL = probLess50[data[7]]\n",
    "    RG =probGreater50[data[7]]\n",
    "    \n",
    "    RAL = probLess50[data[8]]\n",
    "    RAG =probGreater50[data[8]]\n",
    "    \n",
    "    SL = probLess50[data[9]]\n",
    "    SG = probGreater50[data[9]]\n",
    "    \n",
    "    HL = calculateP(data[10], True, 'hoursperweek')\n",
    "    HG = calculateP(data[10], False, 'hoursperweek')\n",
    "    \n",
    "    less = AL*WL*FL*EL*ENL*ML*OL*RL*RAL*SL*HL*ProbL\n",
    "    greater = AG*WG*FG*EG*ENG*MG*OG*RG*RAG*SG*HG*ProbG\n",
    "    \n",
    "    if less > greater:\n",
    "        ProbTest.append('<=50K')\n",
    "    else:\n",
    "        ProbTest.append('>50K')\n",
    "        \n",
    "        "
   ]
  },
  {
   "cell_type": "code",
   "execution_count": 29,
   "id": "breeding-integrity",
   "metadata": {},
   "outputs": [],
   "source": [
    "#compare each entry in the class we just created and the original test data\n",
    "#if same, increment counter\n",
    "#calculate accuracy by counter/total number of test cases\n",
    "testY = list(testY)\n",
    "counter = 0\n",
    "i=0\n",
    "while i < len(testX):\n",
    "    if ProbTest[i] == testY[i]:\n",
    "        counter += 1\n",
    "    \n",
    "    i += 1\n",
    "accuracy = counter/len(testX)\n"
   ]
  },
  {
   "cell_type": "code",
   "execution_count": 30,
   "id": "developmental-nirvana",
   "metadata": {},
   "outputs": [
    {
     "data": {
      "text/plain": [
       "0.8108166811468288"
      ]
     },
     "execution_count": 30,
     "metadata": {},
     "output_type": "execute_result"
    }
   ],
   "source": [
    "accuracy"
   ]
  },
  {
   "cell_type": "code",
   "execution_count": null,
   "id": "liable-shower",
   "metadata": {},
   "outputs": [],
   "source": []
  }
 ],
 "metadata": {
  "kernelspec": {
   "display_name": "Python 3 (ipykernel)",
   "language": "python",
   "name": "python3"
  },
  "language_info": {
   "codemirror_mode": {
    "name": "ipython",
    "version": 3
   },
   "file_extension": ".py",
   "mimetype": "text/x-python",
   "name": "python",
   "nbconvert_exporter": "python",
   "pygments_lexer": "ipython3",
   "version": "3.8.5"
  }
 },
 "nbformat": 4,
 "nbformat_minor": 5
}
