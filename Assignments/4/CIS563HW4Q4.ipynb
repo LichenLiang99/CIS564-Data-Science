{
 "cells": [
  {
   "cell_type": "code",
   "execution_count": 1,
   "id": "36d32e22",
   "metadata": {},
   "outputs": [],
   "source": [
    "import nltk\n",
    "import re\n",
    "import numpy as np\n",
    "from sklearn.cluster import KMeans\n",
    "import string\n",
    "import os\n",
    "from nltk.tokenize import *\n",
    "from sklearn.feature_extraction.text import CountVectorizer\n",
    "from nltk import FreqDist\n",
    "from sklearn.feature_extraction.text import TfidfVectorizer\n"
   ]
  },
  {
   "cell_type": "code",
   "execution_count": 2,
   "id": "4cf6dda7",
   "metadata": {},
   "outputs": [],
   "source": [
    "#read the foods.txt file, for each line starting with \"review/text\", store it in the array reviews[]\n",
    "file = open('foods.txt','r', encoding = 'utf-8', errors = 'replace')\n",
    "f = file.readlines()\n",
    "\n",
    "reviews = []\n",
    "for i in f:\n",
    "    temp = i.split(':')\n",
    "    if temp[0] == \"review/text\":\n",
    "        reviews.append(re.sub('\\n','',temp[1]))\n",
    "file.close()"
   ]
  },
  {
   "cell_type": "code",
   "execution_count": 3,
   "id": "cde8a65e",
   "metadata": {},
   "outputs": [],
   "source": [
    "#for each review, change to lower case, leading and trailing spaces, some special html codes, digits, and punctuations\n",
    "for i in range(len(reviews)):\n",
    "    reviews[i] = reviews[i].lower()\n",
    "    reviews[i] = reviews[i].strip()\n",
    "    reviews[i] = re.sub('<br />', ' ', reviews[i])\n",
    "    reviews[i] = re.sub(r'\\d', ' ',reviews[i])\n",
    "    pattern = re.compile('[^a-z]+')\n",
    "    reviews[i] = pattern.sub(' ', reviews[i])"
   ]
  },
  {
   "cell_type": "code",
   "execution_count": 4,
   "id": "3284e983",
   "metadata": {},
   "outputs": [],
   "source": [
    "#find all the unique words and store in L\n",
    "vectorizer = CountVectorizer()\n",
    "X = vectorizer.fit_transform(reviews)\n",
    "L = list(vectorizer.get_feature_names_out())\n"
   ]
  },
  {
   "cell_type": "code",
   "execution_count": 5,
   "id": "87ecd1bb",
   "metadata": {},
   "outputs": [],
   "source": [
    "#I saved all long stop words in this file, read it into array\n",
    "file2 = open('longstopwords.txt','r')\n",
    "f2 = file2.readlines()\n",
    "\n",
    "long_stopword_list = []\n",
    "for i in f2:\n",
    "    long_stopword_list.append(re.sub(\"\\n\",\"\",i))\n",
    "    \n",
    "file2.close()"
   ]
  },
  {
   "cell_type": "code",
   "execution_count": 6,
   "id": "0f716070",
   "metadata": {},
   "outputs": [
    {
     "name": "stderr",
     "output_type": "stream",
     "text": [
      "C:\\Users\\owner\\miniconda3\\lib\\site-packages\\sklearn\\feature_extraction\\text.py:396: UserWarning: Your stop_words may be inconsistent with your preprocessing. Tokenizing the stop words generated tokens ['al', 'didn', 'doesn', 'don', 'hasn', 'haven', 'isn', 'keep', 'll', 'shouldn', 'sure', 've'] not in stop_words.\n",
      "  warnings.warn(\n"
     ]
    }
   ],
   "source": [
    "#remove all the stopwords from L and save in W\n",
    "vectorizer = CountVectorizer(stop_words = long_stopword_list)\n",
    "x = vectorizer.fit_transform(reviews)\n",
    "W = list(vectorizer.get_feature_names_out())\n"
   ]
  },
  {
   "cell_type": "code",
   "execution_count": 7,
   "id": "51d293c9",
   "metadata": {},
   "outputs": [],
   "source": [
    "#joined all reviews[i] into a single text and tokenized and removed stopwords\n",
    "temp = \" \".join(reviews)\n",
    "tokens = word_tokenize(temp)\n",
    "text = nltk.Text(tokens)"
   ]
  },
  {
   "cell_type": "code",
   "execution_count": 8,
   "id": "637122a0",
   "metadata": {},
   "outputs": [],
   "source": [
    "text = [w for w in text if not w in long_stopword_list]"
   ]
  },
  {
   "cell_type": "code",
   "execution_count": 9,
   "id": "00e5e264",
   "metadata": {},
   "outputs": [],
   "source": [
    "#count the frequency of each word ans store (word,count) pair in array top500[]\n",
    "\n",
    "dist = FreqDist(text)\n",
    "top500 = dist.most_common(500)"
   ]
  },
  {
   "cell_type": "code",
   "execution_count": 10,
   "id": "f39ff373",
   "metadata": {},
   "outputs": [],
   "source": [
    "#extract only the words from top500 and store in new array \n",
    "top500words = []\n",
    "for i in top500:\n",
    "    top500words.append(i[0])"
   ]
  },
  {
   "cell_type": "code",
   "execution_count": 11,
   "id": "7318d935",
   "metadata": {},
   "outputs": [],
   "source": [
    "#vectorized all reviews using vectorization\n",
    "vectorizer = TfidfVectorizer(vocabulary = top500words)\n",
    "V = vectorizer.fit_transform(reviews)"
   ]
  },
  {
   "cell_type": "code",
   "execution_count": 12,
   "id": "e08c02f8",
   "metadata": {},
   "outputs": [],
   "source": [
    "#do kmeans into 10 clusters\n",
    "#this takes very long time\n",
    "kmeans = KMeans(n_clusters = 10, max_iter = 20).fit(V)"
   ]
  },
  {
   "cell_type": "code",
   "execution_count": 13,
   "id": "2cae0636",
   "metadata": {},
   "outputs": [],
   "source": [
    "#get the centroids for each cluster and sort them in reverse\n",
    "centroid = kmeans.cluster_centers_\n",
    "centroid = centroid.argsort()[:, ::-1]"
   ]
  },
  {
   "cell_type": "code",
   "execution_count": 14,
   "id": "31868776",
   "metadata": {},
   "outputs": [],
   "source": [
    "#store the top 5 of each cluster and its count in array\n",
    "wordss = []\n",
    "for i in range(10):\n",
    "    for j in centroid[i, :5]:\n",
    "        wordss.append((top500words[j],top500[j][1]))"
   ]
  },
  {
   "cell_type": "code",
   "execution_count": 15,
   "id": "00be0ea0",
   "metadata": {},
   "outputs": [],
   "source": [
    "#write the top500 words to file\n",
    "file3 = open(\"top500.txt\", \"w\")\n",
    "for element in top500:\n",
    "    file3.write(str(element) + \"\\n\")\n",
    "file3.close()"
   ]
  },
  {
   "cell_type": "code",
   "execution_count": 16,
   "id": "1e224bb7",
   "metadata": {},
   "outputs": [],
   "source": [
    "#write top 5 words representing each cluster to file\n",
    "file4 = open(\"clusterWords.txt\", \"w\")\n",
    "i = 1\n",
    "for element in wordss:\n",
    "    file4.write(str(element) + \" \")\n",
    "    if i % 5 == 0:\n",
    "        file4.write(\"\\n\")\n",
    "    i += 1\n",
    "file4.close()"
   ]
  },
  {
   "cell_type": "code",
   "execution_count": null,
   "id": "6df34906",
   "metadata": {},
   "outputs": [],
   "source": []
  }
 ],
 "metadata": {
  "kernelspec": {
   "display_name": "Python 3.8 (XPython)",
   "language": "python",
   "name": "xpython"
  },
  "language_info": {
   "file_extension": ".py",
   "mimetype": "text/x-python",
   "name": "python",
   "version": "3.8.12"
  }
 },
 "nbformat": 4,
 "nbformat_minor": 5
}
